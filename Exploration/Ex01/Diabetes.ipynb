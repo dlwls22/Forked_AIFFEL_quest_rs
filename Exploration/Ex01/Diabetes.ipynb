{
 "cells": [
  {
   "cell_type": "markdown",
   "id": "d4d7103b",
   "metadata": {},
   "source": [
    "# Env  "
   ]
  },
  {
   "cell_type": "code",
   "execution_count": 53,
   "id": "ad03e130",
   "metadata": {},
   "outputs": [],
   "source": [
    "import pandas as pd\n",
    "import numpy as np\n",
    "import matplotlib.pyplot as plt\n",
    "import seaborn as sns\n",
    "\n",
    "from sklearn.datasets import load_diabetes\n",
    "from sklearn.model_selection import train_test_split"
   ]
  },
  {
   "cell_type": "markdown",
   "id": "a8e897ae",
   "metadata": {},
   "source": [
    "# Data Load"
   ]
  },
  {
   "cell_type": "code",
   "execution_count": 54,
   "id": "ab119e76",
   "metadata": {},
   "outputs": [
    {
     "name": "stdout",
     "output_type": "stream",
     "text": [
      "[[ 0.03807591  0.05068012  0.06169621 ... -0.00259226  0.01990842\n",
      "  -0.01764613]\n",
      " [-0.00188202 -0.04464164 -0.05147406 ... -0.03949338 -0.06832974\n",
      "  -0.09220405]\n",
      " [ 0.08529891  0.05068012  0.04445121 ... -0.00259226  0.00286377\n",
      "  -0.02593034]\n",
      " ...\n",
      " [ 0.04170844  0.05068012 -0.01590626 ... -0.01107952 -0.04687948\n",
      "   0.01549073]\n",
      " [-0.04547248 -0.04464164  0.03906215 ...  0.02655962  0.04452837\n",
      "  -0.02593034]\n",
      " [-0.04547248 -0.04464164 -0.0730303  ... -0.03949338 -0.00421986\n",
      "   0.00306441]]\n",
      "[151.  75. 141. 206. 135.  97. 138.  63. 110. 310. 101.  69. 179. 185.\n",
      " 118. 171. 166. 144.  97. 168.  68.  49.  68. 245. 184. 202. 137.  85.\n",
      " 131. 283. 129.  59. 341.  87.  65. 102. 265. 276. 252.  90. 100.  55.\n",
      "  61.  92. 259.  53. 190. 142.  75. 142. 155. 225.  59. 104. 182. 128.\n",
      "  52.  37. 170. 170.  61. 144.  52. 128.  71. 163. 150.  97. 160. 178.\n",
      "  48. 270. 202. 111.  85.  42. 170. 200. 252. 113. 143.  51.  52. 210.\n",
      "  65. 141.  55. 134.  42. 111.  98. 164.  48.  96.  90. 162. 150. 279.\n",
      "  92.  83. 128. 102. 302. 198.  95.  53. 134. 144. 232.  81. 104.  59.\n",
      " 246. 297. 258. 229. 275. 281. 179. 200. 200. 173. 180.  84. 121. 161.\n",
      "  99. 109. 115. 268. 274. 158. 107.  83. 103. 272.  85. 280. 336. 281.\n",
      " 118. 317. 235.  60. 174. 259. 178. 128.  96. 126. 288.  88. 292.  71.\n",
      " 197. 186.  25.  84.  96. 195.  53. 217. 172. 131. 214.  59.  70. 220.\n",
      " 268. 152.  47.  74. 295. 101. 151. 127. 237. 225.  81. 151. 107.  64.\n",
      " 138. 185. 265. 101. 137. 143. 141.  79. 292. 178.  91. 116.  86. 122.\n",
      "  72. 129. 142.  90. 158.  39. 196. 222. 277.  99. 196. 202. 155.  77.\n",
      " 191.  70.  73.  49.  65. 263. 248. 296. 214. 185.  78.  93. 252. 150.\n",
      "  77. 208.  77. 108. 160.  53. 220. 154. 259.  90. 246. 124.  67.  72.\n",
      " 257. 262. 275. 177.  71.  47. 187. 125.  78.  51. 258. 215. 303. 243.\n",
      "  91. 150. 310. 153. 346.  63.  89.  50.  39. 103. 308. 116. 145.  74.\n",
      "  45. 115. 264.  87. 202. 127. 182. 241.  66.  94. 283.  64. 102. 200.\n",
      " 265.  94. 230. 181. 156. 233.  60. 219.  80.  68. 332. 248.  84. 200.\n",
      "  55.  85.  89.  31. 129.  83. 275.  65. 198. 236. 253. 124.  44. 172.\n",
      " 114. 142. 109. 180. 144. 163. 147.  97. 220. 190. 109. 191. 122. 230.\n",
      " 242. 248. 249. 192. 131. 237.  78. 135. 244. 199. 270. 164.  72.  96.\n",
      " 306.  91. 214.  95. 216. 263. 178. 113. 200. 139. 139.  88. 148.  88.\n",
      " 243.  71.  77. 109. 272.  60.  54. 221.  90. 311. 281. 182. 321.  58.\n",
      " 262. 206. 233. 242. 123. 167.  63. 197.  71. 168. 140. 217. 121. 235.\n",
      " 245.  40.  52. 104. 132.  88.  69. 219.  72. 201. 110.  51. 277.  63.\n",
      " 118.  69. 273. 258.  43. 198. 242. 232. 175.  93. 168. 275. 293. 281.\n",
      "  72. 140. 189. 181. 209. 136. 261. 113. 131. 174. 257.  55.  84.  42.\n",
      " 146. 212. 233.  91. 111. 152. 120.  67. 310.  94. 183.  66. 173.  72.\n",
      "  49.  64.  48. 178. 104. 132. 220.  57.]\n"
     ]
    }
   ],
   "source": [
    "diabetes=load_diabetes()\n",
    "\n",
    "df_X = diabetes.data\n",
    "df_y = diabetes.target\n",
    "\n",
    "# nd array임\n",
    "print(df_X)\n",
    "print(df_y)"
   ]
  },
  {
   "cell_type": "code",
   "execution_count": 55,
   "id": "978e2d94",
   "metadata": {},
   "outputs": [
    {
     "name": "stdout",
     "output_type": "stream",
     "text": [
      "<class 'numpy.ndarray'>\n"
     ]
    }
   ],
   "source": [
    "print(type(df_x))"
   ]
  },
  {
   "cell_type": "code",
   "execution_count": 56,
   "id": "ca5092bd",
   "metadata": {},
   "outputs": [
    {
     "name": "stdout",
     "output_type": "stream",
     "text": [
      "(442, 10)\n",
      "(442,)\n"
     ]
    }
   ],
   "source": [
    "print(df_x.shape)\n",
    "print(df_y.shape)"
   ]
  },
  {
   "cell_type": "markdown",
   "id": "cf9791ab",
   "metadata": {},
   "source": [
    "# train test 분리"
   ]
  },
  {
   "cell_type": "code",
   "execution_count": 57,
   "id": "b4480d72",
   "metadata": {},
   "outputs": [],
   "source": [
    "X_train, X_test, y_train, y_test = train_test_split(df_X, df_y, test_size = 0.1, random_state =42)"
   ]
  },
  {
   "cell_type": "code",
   "execution_count": 58,
   "id": "bf1e9b73",
   "metadata": {},
   "outputs": [
    {
     "name": "stdout",
     "output_type": "stream",
     "text": [
      "X_train shape: (397, 10)\n",
      "X_test shape: (45, 10)\n",
      "y_train shape: (397,)\n",
      "y_test shape: (45,)\n"
     ]
    }
   ],
   "source": [
    "print(\"X_train shape:\", X_train.shape)\n",
    "print(\"X_test shape:\", X_test.shape)\n",
    "print(\"y_train shape:\", y_train.shape)\n",
    "print(\"y_test shape:\", y_test.shape)"
   ]
  },
  {
   "cell_type": "markdown",
   "id": "a667ba64",
   "metadata": {},
   "source": [
    "# 모델 준비하기"
   ]
  },
  {
   "cell_type": "code",
   "execution_count": 59,
   "id": "38eccac0",
   "metadata": {},
   "outputs": [
    {
     "name": "stdout",
     "output_type": "stream",
     "text": [
      "feature 1 : age\n",
      "feature 2 : sex\n",
      "feature 3 : bmi\n",
      "feature 4 : bp\n",
      "feature 5 : s1\n",
      "feature 6 : s2\n",
      "feature 7 : s3\n",
      "feature 8 : s4\n",
      "feature 9 : s5\n",
      "feature 10 : s6\n"
     ]
    }
   ],
   "source": [
    "for i, feature_name in enumerate(diabetes.feature_names):\n",
    "    print(f'feature {i+1} : {feature_name}')\n",
    "\n",
    "# w 10개 b 1개 준비해야함"
   ]
  },
  {
   "cell_type": "code",
   "execution_count": 60,
   "id": "6cd1bdc1",
   "metadata": {},
   "outputs": [],
   "source": [
    "W = np.random.rand(10)\n",
    "b = np.random.rand()"
   ]
  },
  {
   "cell_type": "code",
   "execution_count": 61,
   "id": "b9e111fe",
   "metadata": {},
   "outputs": [
    {
     "data": {
      "text/plain": [
       "array([0.02248162, 0.22489874, 0.97137587, 0.49940595, 0.04683103,\n",
       "       0.48947958, 0.21087718, 0.54203093, 0.0834224 , 0.88099794])"
      ]
     },
     "execution_count": 61,
     "metadata": {},
     "output_type": "execute_result"
    }
   ],
   "source": [
    "W"
   ]
  },
  {
   "cell_type": "code",
   "execution_count": 62,
   "id": "6d2eaea9",
   "metadata": {},
   "outputs": [
    {
     "data": {
      "text/plain": [
       "0.8471077838513612"
      ]
     },
     "execution_count": 62,
     "metadata": {},
     "output_type": "execute_result"
    }
   ],
   "source": [
    "b"
   ]
  },
  {
   "cell_type": "code",
   "execution_count": 63,
   "id": "b8343fc7",
   "metadata": {},
   "outputs": [],
   "source": [
    "def model(X, W, b):\n",
    "    predictions = 0\n",
    "    for i in range(10):\n",
    "        predictions += X[:, i] * W[i]\n",
    "    predictions += b\n",
    "    \n",
    "    return predictions"
   ]
  },
  {
   "cell_type": "markdown",
   "id": "3fb16ef3",
   "metadata": {},
   "source": [
    "# 손실함수 정의하기"
   ]
  },
  {
   "cell_type": "code",
   "execution_count": 64,
   "id": "6bf4f1cd",
   "metadata": {},
   "outputs": [],
   "source": [
    "def MSE(a, b):\n",
    "    mse = ((a - b) ** 2).mean()\n",
    "    \n",
    "    return mse"
   ]
  },
  {
   "cell_type": "code",
   "execution_count": 65,
   "id": "7ab7cbe2",
   "metadata": {},
   "outputs": [],
   "source": [
    "def loss(X, W, b, y):\n",
    "    predictions = model(X, W, b)\n",
    "    L = MSE(predictions, y)\n",
    "    \n",
    "    return L"
   ]
  },
  {
   "cell_type": "markdown",
   "id": "9bf36063",
   "metadata": {},
   "source": [
    "# Gradient 구현하기"
   ]
  },
  {
   "cell_type": "code",
   "execution_count": 66,
   "id": "3a9c303b",
   "metadata": {},
   "outputs": [],
   "source": [
    "def gradient(X, W, b, y):\n",
    "    N = len(y)\n",
    "    \n",
    "    y_pred = model(X, W, b)\n",
    "    \n",
    "    dw = 1/N * 2 * X.T.dot(y_pred - y)\n",
    "    \n",
    "    db = 2 * (y_pred - y).mean()\n",
    "    \n",
    "    return dw, db"
   ]
  },
  {
   "cell_type": "markdown",
   "id": "6db0ae84",
   "metadata": {},
   "source": [
    "# 학습률 설정하기"
   ]
  },
  {
   "cell_type": "code",
   "execution_count": 79,
   "id": "d6c9a53f",
   "metadata": {},
   "outputs": [],
   "source": [
    "lr = 0.1"
   ]
  },
  {
   "cell_type": "markdown",
   "id": "46abfaeb",
   "metadata": {},
   "source": [
    "# 모델 학습하기"
   ]
  },
  {
   "cell_type": "code",
   "execution_count": 80,
   "id": "20c36e07",
   "metadata": {},
   "outputs": [
    {
     "name": "stdout",
     "output_type": "stream",
     "text": [
      "Iteration 100 : LOSS 4914.1195\n",
      "Iteration 200 : LOSS 4522.9343\n",
      "Iteration 300 : LOSS 4231.8148\n",
      "Iteration 400 : LOSS 4011.8433\n",
      "Iteration 500 : LOSS 3842.8268\n",
      "Iteration 600 : LOSS 3710.6272\n",
      "Iteration 700 : LOSS 3605.3126\n",
      "Iteration 800 : LOSS 3519.8756\n",
      "Iteration 900 : LOSS 3449.3462\n",
      "Iteration 1000 : LOSS 3390.1755\n",
      "Iteration 1100 : LOSS 3339.8091\n",
      "Iteration 1200 : LOSS 3296.3903\n",
      "Iteration 1300 : LOSS 3258.5536\n",
      "Iteration 1400 : LOSS 3225.2814\n",
      "Iteration 1500 : LOSS 3195.8040\n",
      "Iteration 1600 : LOSS 3169.5294\n",
      "Iteration 1700 : LOSS 3145.9942\n",
      "Iteration 1800 : LOSS 3124.8294\n",
      "Iteration 1900 : LOSS 3105.7359\n",
      "Iteration 2000 : LOSS 3088.4669\n",
      "Iteration 2100 : LOSS 3072.8158\n",
      "Iteration 2200 : LOSS 3058.6073\n",
      "Iteration 2300 : LOSS 3045.6905\n",
      "Iteration 2400 : LOSS 3033.9344\n",
      "Iteration 2500 : LOSS 3023.2244\n",
      "Iteration 2600 : LOSS 3013.4591\n",
      "Iteration 2700 : LOSS 3004.5487\n",
      "Iteration 2800 : LOSS 2996.4129\n",
      "Iteration 2900 : LOSS 2988.9800\n",
      "Iteration 3000 : LOSS 2982.1854\n",
      "Iteration 3100 : LOSS 2975.9711\n",
      "Iteration 3200 : LOSS 2970.2846\n",
      "Iteration 3300 : LOSS 2965.0788\n",
      "Iteration 3400 : LOSS 2960.3106\n",
      "Iteration 3500 : LOSS 2955.9414\n",
      "Iteration 3600 : LOSS 2951.9358\n",
      "Iteration 3700 : LOSS 2948.2621\n",
      "Iteration 3800 : LOSS 2944.8911\n",
      "Iteration 3900 : LOSS 2941.7966\n",
      "Iteration 4000 : LOSS 2938.9546\n",
      "Iteration 4100 : LOSS 2936.3433\n",
      "Iteration 4200 : LOSS 2933.9429\n",
      "Iteration 4300 : LOSS 2931.7354\n",
      "Iteration 4400 : LOSS 2929.7043\n",
      "Iteration 4500 : LOSS 2927.8346\n",
      "Iteration 4600 : LOSS 2926.1128\n",
      "Iteration 4700 : LOSS 2924.5263\n",
      "Iteration 4800 : LOSS 2923.0639\n",
      "Iteration 4900 : LOSS 2921.7151\n"
     ]
    }
   ],
   "source": [
    "losses = []\n",
    "\n",
    "for i in range(1, 5000):\n",
    "    dw, db = gradient(X_train, W, b, y_train)\n",
    "    W -= lr * dw\n",
    "    b -= lr * db\n",
    "    L = loss(X_train, W, b, y_train)\n",
    "    losses.append(L)\n",
    "    \n",
    "    if i % 100 == 0:\n",
    "        print('Iteration %d : LOSS %0.4f' % (i, L))"
   ]
  },
  {
   "cell_type": "code",
   "execution_count": 81,
   "id": "25c954be",
   "metadata": {},
   "outputs": [
    {
     "data": {
      "text/plain": [
       "[<matplotlib.lines.Line2D at 0x7caedbd29700>]"
      ]
     },
     "execution_count": 81,
     "metadata": {},
     "output_type": "execute_result"
    },
    {
     "data": {
      "image/png": "[encoded data removed]",
      "text/plain": [
       "<Figure size 432x288 with 1 Axes>"
      ]
     },
     "metadata": {
      "needs_background": "light"
     },
     "output_type": "display_data"
    }
   ],
   "source": [
    "plt.plot(losses)"
   ]
  },
  {
   "cell_type": "code",
   "execution_count": 82,
   "id": "a3c5cc4f",
   "metadata": {
    "scrolled": true
   },
   "outputs": [
    {
     "data": {
      "text/plain": [
       "2750.560330749415"
      ]
     },
     "execution_count": 82,
     "metadata": {},
     "output_type": "execute_result"
    }
   ],
   "source": [
    "prediction = model(X_test, W, b)\n",
    "mse = loss(X_test, W, b, y_test)\n",
    "mse"
   ]
  },
  {
   "cell_type": "code",
   "execution_count": 52,
   "id": "23aa5edc",
   "metadata": {},
   "outputs": [
    {
     "data": {
      "text/plain": [
       "<matplotlib.collections.PathCollection at 0x7caedbf03dc0>"
      ]
     },
     "execution_count": 52,
     "metadata": {},
     "output_type": "execute_result"
    },
    {
     "data": {
      "image/png": "[encoded data removed]",
      "text/plain": [
       "<Figure size 432x288 with 1 Axes>"
      ]
     },
     "metadata": {
      "needs_background": "light"
     },
     "output_type": "display_data"
    }
   ],
   "source": [
    "plt.scatter(X_test[:, 0], y_test)\n",
    "plt.scatter(X_test[:, 0], prediction)"
   ]
  },
  {
   "cell_type": "code",
   "execution_count": null,
   "id": "355f475c",
   "metadata": {},
   "outputs": [],
   "source": []
  }
 ],
 "metadata": {
  "kernelspec": {
   "display_name": "Python 3 (ipykernel)",
   "language": "python",
   "name": "python3"
  },
  "language_info": {
   "codemirror_mode": {
    "name": "ipython",
    "version": 3
   },
   "file_extension": ".py",
   "mimetype": "text/x-python",
   "name": "python",
   "nbconvert_exporter": "python",
   "pygments_lexer": "ipython3",
   "version": "3.9.7"
  }
 },
 "nbformat": 4,
 "nbformat_minor": 5
}
